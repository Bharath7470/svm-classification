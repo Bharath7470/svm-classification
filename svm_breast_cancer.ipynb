{
 "cells": [
  {
   "cell_type": "code",
   "execution_count": 1,
   "id": "af172b59-fcfd-47e7-af52-561f4e6c95df",
   "metadata": {},
   "outputs": [],
   "source": [
    "import pandas as pd\n",
    "import numpy as np\n",
    "import matplotlib.pyplot as plt\n",
    "import seaborn as sns\n",
    "\n",
    "from sklearn.datasets import load_breast_cancer\n",
    "from sklearn.preprocessing import StandardScaler\n",
    "from sklearn.model_selection import train_test_split, cross_val_score\n",
    "from sklearn.svm import SVC\n",
    "from sklearn.metrics import accuracy_score, confusion_matrix, classification_report"
   ]
  },
  {
   "cell_type": "code",
   "execution_count": 2,
   "id": "5e34bffd-bd97-42ec-bc93-d3a468655b60",
   "metadata": {},
   "outputs": [],
   "source": [
    "data = load_breast_cancer()\n",
    "X = pd.DataFrame(data.data, columns=data.feature_names)\n",
    "y = pd.Series(data.target)"
   ]
  },
  {
   "cell_type": "code",
   "execution_count": 3,
   "id": "3ce7c487-11a3-4218-8634-305ee3b82182",
   "metadata": {},
   "outputs": [],
   "source": [
    "scaler = StandardScaler()\n",
    "X_scaled = scaler.fit_transform(X)"
   ]
  },
  {
   "cell_type": "code",
   "execution_count": 4,
   "id": "826ba7e7-ba13-479e-b838-95637d2422c2",
   "metadata": {},
   "outputs": [],
   "source": [
    "X_train, X_test, y_train, y_test = train_test_split(\n",
    "    X_scaled, y, test_size=0.2, random_state=42\n",
    ")"
   ]
  },
  {
   "cell_type": "code",
   "execution_count": 5,
   "id": "29bb79bd-5b4a-4f44-82c0-8aa6b138acd7",
   "metadata": {},
   "outputs": [
    {
     "name": "stdout",
     "output_type": "stream",
     "text": [
      "Linear Kernel Accuracy: 0.956140350877193\n"
     ]
    }
   ],
   "source": [
    "linear_svm = SVC(kernel='linear', C=1)\n",
    "linear_svm.fit(X_train, y_train)\n",
    "y_pred_linear = linear_svm.predict(X_test)\n",
    "\n",
    "print(\"Linear Kernel Accuracy:\", accuracy_score(y_test, y_pred_linear))"
   ]
  },
  {
   "cell_type": "code",
   "execution_count": 6,
   "id": "23037a72-79a4-4f0c-a6ab-fa34db34abcb",
   "metadata": {},
   "outputs": [
    {
     "name": "stdout",
     "output_type": "stream",
     "text": [
      "RBF Kernel Accuracy: 0.9736842105263158\n"
     ]
    }
   ],
   "source": [
    "rbf_svm = SVC(kernel='rbf', C=1, gamma='scale')\n",
    "rbf_svm.fit(X_train, y_train)\n",
    "y_pred_rbf = rbf_svm.predict(X_test)\n",
    "\n",
    "print(\"RBF Kernel Accuracy:\", accuracy_score(y_test, y_pred_rbf))"
   ]
  },
  {
   "cell_type": "code",
   "execution_count": 7,
   "id": "291921dc-0759-49fc-ad7c-236bec00a079",
   "metadata": {},
   "outputs": [
    {
     "name": "stdout",
     "output_type": "stream",
     "text": [
      "Linear Kernel Report:\n",
      "               precision    recall  f1-score   support\n",
      "\n",
      "           0       0.93      0.95      0.94        43\n",
      "           1       0.97      0.96      0.96        71\n",
      "\n",
      "    accuracy                           0.96       114\n",
      "   macro avg       0.95      0.96      0.95       114\n",
      "weighted avg       0.96      0.96      0.96       114\n",
      "\n",
      "RBF Kernel Report:\n",
      "               precision    recall  f1-score   support\n",
      "\n",
      "           0       0.98      0.95      0.96        43\n",
      "           1       0.97      0.99      0.98        71\n",
      "\n",
      "    accuracy                           0.97       114\n",
      "   macro avg       0.97      0.97      0.97       114\n",
      "weighted avg       0.97      0.97      0.97       114\n",
      "\n"
     ]
    }
   ],
   "source": [
    "print(\"Linear Kernel Report:\\n\", classification_report(y_test, y_pred_linear))\n",
    "print(\"RBF Kernel Report:\\n\", classification_report(y_test, y_pred_rbf))"
   ]
  },
  {
   "cell_type": "code",
   "execution_count": 8,
   "id": "855b1be2-1d6a-4215-8af1-f28917254d96",
   "metadata": {},
   "outputs": [
    {
     "name": "stdout",
     "output_type": "stream",
     "text": [
      "🔧 RBF Kernel Tuning Results:\n",
      "C=0.1, gamma=scale → Accuracy: 0.95\n",
      "C=0.1, gamma=0.01 → Accuracy: 0.96\n",
      "C=0.1, gamma=0.1 → Accuracy: 0.95\n",
      "C=0.1, gamma=1 → Accuracy: 0.62\n",
      "C=1, gamma=scale → Accuracy: 0.97\n",
      "C=1, gamma=0.01 → Accuracy: 0.96\n",
      "C=1, gamma=0.1 → Accuracy: 0.96\n",
      "C=1, gamma=1 → Accuracy: 0.63\n",
      "C=10, gamma=scale → Accuracy: 0.97\n",
      "C=10, gamma=0.01 → Accuracy: 0.98\n",
      "C=10, gamma=0.1 → Accuracy: 0.96\n",
      "C=10, gamma=1 → Accuracy: 0.63\n",
      "C=100, gamma=scale → Accuracy: 0.94\n",
      "C=100, gamma=0.01 → Accuracy: 0.96\n",
      "C=100, gamma=0.1 → Accuracy: 0.96\n",
      "C=100, gamma=1 → Accuracy: 0.63\n"
     ]
    }
   ],
   "source": [
    "C_values = [0.1, 1, 10, 100]\n",
    "gamma_values = ['scale', 0.01, 0.1, 1]\n",
    "\n",
    "print(\"🔧 RBF Kernel Tuning Results:\")\n",
    "for c in C_values:\n",
    "    for g in gamma_values:\n",
    "        svm_model = SVC(kernel='rbf', C=c, gamma=g)\n",
    "        svm_model.fit(X_train, y_train)\n",
    "        score = accuracy_score(y_test, svm_model.predict(X_test))\n",
    "        print(f\"C={c}, gamma={g} → Accuracy: {score:.2f}\")"
   ]
  },
  {
   "cell_type": "code",
   "execution_count": 9,
   "id": "81dcaff7-460b-445b-ac89-4e6fda4715d3",
   "metadata": {},
   "outputs": [
    {
     "name": "stdout",
     "output_type": "stream",
     "text": [
      "Cross-Validation Scores: [0.97368421 0.97368421 0.98245614 0.97368421 0.99115044]\n",
      "Average Accuracy: 0.9789318428815401\n"
     ]
    }
   ],
   "source": [
    "best_svm = SVC(kernel='rbf', C=10, gamma=0.01)\n",
    "scores = cross_val_score(best_svm, X_scaled, y, cv=5)\n",
    "print(\"Cross-Validation Scores:\", scores)\n",
    "print(\"Average Accuracy:\", scores.mean())"
   ]
  },
  {
   "cell_type": "code",
   "execution_count": null,
   "id": "c7b25114-90b6-41e8-8e8c-3059723c98db",
   "metadata": {},
   "outputs": [],
   "source": [
    "from sklearn.decomposition import PCA\n",
    "\n",
    "pca = PCA(n_components=2)\n",
    "X_2D = pca.fit_transform(X_scaled)\n",
    "\n",
    "X_train2, X_test2, y_train2, y_test2 = train_test_split(X_2D, y, test_size=0.2, random_state=42)\n",
    "\n",
    "svm_2d = SVC(kernel='rbf', C=10, gamma=0.01)\n",
    "svm_2d.fit(X_train2, y_train2)\n",
    "\n",
    "# Decision boundary plot\n",
    "h = 0.02\n",
    "x_min, x_max = X_2D[:, 0].min() - 1, X_2D[:, 0].max() + 1\n",
    "y_min, y_max = X_2D[:, 1].min() - 1, X_2D[:, 1].max() + 1\n",
    "xx, yy = np.meshgrid(np.arange(x_min, x_max, h),\n",
    "                     np.arange(y_min, y_max, h))\n",
    "Z = svm_2d.predict(np.c_[xx.ravel(), yy.ravel()])\n",
    "Z = Z.reshape(xx.shape)\n",
    "\n",
    "plt.figure(figsize=(10,6))\n",
    "plt.contourf(xx, yy, Z, cmap=plt.cm.coolwarm, alpha=0.8)\n",
    "plt.scatter(X_2D[:, 0], X_2D[:, 1], c=y, cmap=plt.cm.coolwarm, edgecolors='k')\n",
    "plt.title(\"SVM Decision Boundary (RBF, PCA 2D)\")\n",
    "plt.xlabel(\"PCA Component 1\")\n",
    "plt.ylabel(\"PCA Component 2\")\n",
    "plt.show()"
   ]
  },
  {
   "cell_type": "code",
   "execution_count": null,
   "id": "396231b6-9528-445d-848e-a49b6888dd7a",
   "metadata": {},
   "outputs": [],
   "source": []
  }
 ],
 "metadata": {
  "kernelspec": {
   "display_name": "Python 3 (ipykernel)",
   "language": "python",
   "name": "python3"
  },
  "language_info": {
   "codemirror_mode": {
    "name": "ipython",
    "version": 3
   },
   "file_extension": ".py",
   "mimetype": "text/x-python",
   "name": "python",
   "nbconvert_exporter": "python",
   "pygments_lexer": "ipython3",
   "version": "3.12.7"
  }
 },
 "nbformat": 4,
 "nbformat_minor": 5
}
